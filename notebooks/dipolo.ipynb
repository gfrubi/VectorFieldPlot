{
 "cells": [
  {
   "cell_type": "code",
   "execution_count": 1,
   "metadata": {
    "collapsed": false
   },
   "outputs": [],
   "source": [
    "#Se carga Módulo de Vector Field Plot\n",
    "import vectorfieldplot.vfp as vfp\n",
    "#Se carga función para visualizar el archivo en formato svg\n",
    "from IPython.display import SVG\n",
    "#Se cargan funciones para la interactividad\n",
    "from ipywidgets import interactive\n",
    "from IPython.display import display"
   ]
  },
  {
   "cell_type": "markdown",
   "metadata": {},
   "source": [
    "# Dipolo Eléctrico\n",
    "\n",
    "El campo eléctrico que las cargas puntuales $q_{1}$ y $q_{2}$ ubicadas en la posiciones $\\vec{r}_{1}$ y $\\vec{r}_{2}$ respectivamente, generan en la posición $\\vec{r}$ está dado por:\n",
    "\n",
    "$$\\vec{E}(\\vec{r}) = \\frac{k_{e} q_{1}}{||\\vec{r}-\\vec{r}_{1}||^3} (\\vec{r}-\\vec{r}_{1})+\\frac{k_{e} q_{2}}{||\\vec{r}-\\vec{r}_{2}||^3} (\\vec{r}-\\vec{r}_{2}),$$\n",
    "\n",
    "donde $k_{e}$ es la constante eléctrica cuyo valor en el SI es $k_{e} \\approx 8.99\\times 10^{9}~\\text{Nm}^2\\text{C}^{-2}.$"
   ]
  },
  {
   "cell_type": "markdown",
   "metadata": {},
   "source": [
    "## ¿Cómo elaborar una imagen?"
   ]
  },
  {
   "cell_type": "markdown",
   "metadata": {},
   "source": [
    "### 1. Se crea el archivo y se configura el campo"
   ]
  },
  {
   "cell_type": "code",
   "execution_count": 2,
   "metadata": {
    "collapsed": false
   },
   "outputs": [],
   "source": [
    "#Si quiere rehacer la imagen debe volver a ejecutar desde esta celda en adelante\n",
    "doc = 1\n",
    "del doc\n",
    "#Se crea documento donde se dibujará las líneas de campo eléctrico\n",
    "name = 'dipolo_electrico'\n",
    "doc = vfp.FieldplotDocument(name, commons=True,center=[300,300],width=600,height=600)\n",
    "#Se configura el campo eléctrico\n",
    "field = vfp.Field([['monopole', {'x':-1, 'y':0, 'Q':1}], ['monopole', {'x':1, 'y':0, 'Q':-1}]])\n",
    "#Se dibujan las cargas que generan el campo\n",
    "doc.draw_charges(field) "
   ]
  },
  {
   "cell_type": "markdown",
   "metadata": {},
   "source": [
    "### 2. Se itera para dibujar cada una de las líneas de campo"
   ]
  },
  {
   "cell_type": "code",
   "execution_count": 3,
   "metadata": {
    "collapsed": false
   },
   "outputs": [],
   "source": [
    "#Se configura el número de líneas de campo Eléctrico\n",
    "n = 4\n",
    "#Se itera para dibujar las líneas de campo eléctrico\n",
    "for i in range(n):\n",
    "    t = -1.0 + 2.0 * (i + 0.5) / n\n",
    "    y = 0.25 * ((t-1)**-2 - (t+1)**-2) - 0.3*t\n",
    "    line = vfp.FieldLine(field, [0, y], directions='both', maxr=1e4, maxn=2e4)\n",
    "    doc.draw_line(line, linewidth=1.0, arrows_style={'dist':1.25, 'scale':1.1, 'max_arrows':4})"
   ]
  },
  {
   "cell_type": "markdown",
   "metadata": {},
   "source": [
    "### 3. Se exporta en el archivo en formato svg"
   ]
  },
  {
   "cell_type": "code",
   "execution_count": 4,
   "metadata": {
    "collapsed": false
   },
   "outputs": [
    {
     "name": "stdout",
     "output_type": "stream",
     "text": [
      "('image written to', 'dipolo_electrico.svg')\n"
     ]
    }
   ],
   "source": [
    "#Se guarda archivo en formato svg\n",
    "doc.write()"
   ]
  },
  {
   "cell_type": "code",
   "execution_count": 5,
   "metadata": {
    "collapsed": false
   },
   "outputs": [
    {
     "name": "stdout",
     "output_type": "stream",
     "text": [
      "\u001b[0m\u001b[01;35manimacion_dipolo_electrico_ideal.svg\u001b[0m  dipolo-ideal.ipynb\r\n",
      "\u001b[01;35manimacion_dipolo_electrico.svg\u001b[0m        dipolo.ipynb\r\n",
      "\u001b[01;35manimacion_monopolo_electrico.svg\u001b[0m      \u001b[01;35mmonopolo_electrico.svg\u001b[0m\r\n",
      "\u001b[01;35mdipolo_electrico_ideal.svg\u001b[0m            monopolo.ipynb\r\n",
      "\u001b[01;35mdipolo_electrico.svg\u001b[0m\r\n"
     ]
    }
   ],
   "source": [
    "# Verifique que se ha exportado el archivo name+'.svg'\n",
    "%ls"
   ]
  },
  {
   "cell_type": "markdown",
   "metadata": {},
   "source": [
    "### 4. Se carga y visualiza el archivo en formato svg"
   ]
  },
  {
   "cell_type": "code",
   "execution_count": 6,
   "metadata": {
    "collapsed": false
   },
   "outputs": [
    {
     "data": {
      "image/svg+xml": [
       "<svg baseProfile=\"full\" height=\"600\" version=\"1.1\" width=\"600\" xmlns=\"http://www.w3.org/2000/svg\" xmlns:xlink=\"http://www.w3.org/1999/xlink\">\n",
       "  <title>dipolo_electrico</title>\n",
       "  <desc>dipolo_electrico\n",
       "created with VectorFieldPlot 3.1\n",
       "https://commons.wikimedia.org/wiki/User:Geek3/VectorFieldPlot\n",
       "\n",
       "about: https://commons.wikimedia.org/wiki/File:dipolo_electrico.svg\n",
       "rights: Creative Commons Attribution ShareAlike 4.0\n",
       "  </desc>\n",
       "  <defs>\n",
       "    <clipPath id=\"image_clip\">\n",
       "      <rect height=\"6.0\" width=\"6.0\" x=\"-3.0\" y=\"-3.0\"/>\n",
       "    </clipPath>\n",
       "    <radialGradient cx=\"0.65\" cy=\"0.7\" id=\"white_spot\" r=\"0.75\">\n",
       "      <stop offset=\"0\" stop-color=\"#ffffff\" stop-opacity=\"0.7\"/>\n",
       "      <stop offset=\"0.1\" stop-color=\"#ffffff\" stop-opacity=\"0.5\"/>\n",
       "      <stop offset=\"0.6\" stop-color=\"#ffffff\" stop-opacity=\"0\"/>\n",
       "      <stop offset=\"0.6\" stop-color=\"#000000\" stop-opacity=\"0\"/>\n",
       "      <stop offset=\"0.75\" stop-color=\"#000000\" stop-opacity=\"0.05\"/>\n",
       "      <stop offset=\"0.85\" stop-color=\"#000000\" stop-opacity=\"0.15\"/>\n",
       "      <stop offset=\"1\" stop-color=\"#000000\" stop-opacity=\"0.5\"/>\n",
       "    </radialGradient>\n",
       "    <path d=\"M 0.3,0 L -2.2,2.25 L 3.8,0 L -2.2,-2.25 L 0.3,0 Z\" fill=\"#000000\" id=\"arrow1\" stroke=\"none\" transform=\"scale(0.01)\"/>\n",
       "  </defs>\n",
       "  <rect fill=\"#ffffff\" height=\"600\" id=\"background\" width=\"600\" x=\"0\" y=\"0\"/>\n",
       "  <g clip-path=\"url(#image_clip)\" id=\"image\" transform=\"translate(300.0,300.0) scale(100.0,-100.0)\">\n",
       "    <g fill=\"none\" id=\"fieldlines\" stroke=\"#000000\" stroke-linecap=\"round\" stroke-linejoin=\"round\" stroke-width=\"0.01\">\n",
       "      <g id=\"fieldline1\">\n",
       "        <path d=\"M -1.0000,0.0000 L -1.0758,-0.1404 L -1.1249,-0.2337 L -1.1663,-0.3149 L -1.2031,-0.3900 L -1.2368,-0.4613 L -1.2679,-0.5300 L -1.2968,-0.5970 L -1.3237,-0.6626 L -1.3489,-0.7272 L -1.3724,-0.7910 L -1.3943,-0.8541 L -1.4147,-0.9167 L -1.4337,-0.9788 L -1.4512,-1.0405 L -1.4672,-1.1019 L -1.4819,-1.1629 L -1.4952,-1.2236 L -1.5072,-1.2841 L -1.5178,-1.3442 L -1.5271,-1.4040 L -1.5350,-1.4636 L -1.5417,-1.5228 L -1.5470,-1.5817 L -1.5510,-1.6402 L -1.5537,-1.6984 L -1.5552,-1.7562 L -1.5554,-1.8136 L -1.5543,-1.8705 L -1.5519,-1.9271 L -1.5483,-1.9831 L -1.5435,-2.0386 L -1.5375,-2.0937 L -1.5302,-2.1481 L -1.5217,-2.2020 L -1.5121,-2.2553 L -1.5013,-2.3079 L -1.4893,-2.3599 L -1.4762,-2.4112 L -1.4620,-2.4618 L -1.4466,-2.5117 L -1.4302,-2.5608 L -1.4127,-2.6092 L -1.3942,-2.6567 L -1.3746,-2.7034 L -1.3540,-2.7492 L -1.3324,-2.7942 L -1.3099,-2.8382 L -1.2864,-2.8813 L -1.2619,-2.9235 L -1.2366,-2.9648 L -1.2104,-3.0050 M 1.2104,-3.0050 L 1.2366,-2.9648 L 1.2619,-2.9235 L 1.2864,-2.8813 L 1.3099,-2.8382 L 1.3324,-2.7942 L 1.3540,-2.7492 L 1.3746,-2.7034 L 1.3942,-2.6567 L 1.4127,-2.6092 L 1.4302,-2.5608 L 1.4466,-2.5117 L 1.4620,-2.4618 L 1.4762,-2.4112 L 1.4893,-2.3599 L 1.5013,-2.3079 L 1.5121,-2.2553 L 1.5217,-2.2020 L 1.5302,-2.1481 L 1.5375,-2.0937 L 1.5435,-2.0386 L 1.5483,-1.9831 L 1.5519,-1.9271 L 1.5543,-1.8705 L 1.5554,-1.8136 L 1.5552,-1.7562 L 1.5537,-1.6984 L 1.5510,-1.6402 L 1.5470,-1.5817 L 1.5417,-1.5228 L 1.5350,-1.4636 L 1.5271,-1.4040 L 1.5178,-1.3442 L 1.5072,-1.2841 L 1.4952,-1.2236 L 1.4819,-1.1629 L 1.4672,-1.1019 L 1.4512,-1.0405 L 1.4337,-0.9788 L 1.4147,-0.9167 L 1.3943,-0.8541 L 1.3724,-0.7910 L 1.3489,-0.7272 L 1.3237,-0.6626 L 1.2968,-0.5970 L 1.2679,-0.5300 L 1.2368,-0.4613 L 1.2031,-0.3900 L 1.1663,-0.3149 L 1.1249,-0.2337 L 1.0758,-0.1404 L 1.0000,0.0000\"/>\n",
       "        <g id=\"arrows1\">\n",
       "          <use transform=\"translate(-1.2413,-0.4713) rotate(-114.32) scale(1.1)\" xlink:href=\"#arrow1\"/>\n",
       "          <use transform=\"translate(-1.5373,-1.4835) rotate(-96.39) scale(1.1)\" xlink:href=\"#arrow1\"/>\n",
       "          <use transform=\"translate(-1.4406,-2.5299) rotate(-71.51) scale(1.1)\" xlink:href=\"#arrow1\"/>\n",
       "          <use transform=\"translate(1.4405,-2.5299) rotate(71.84) scale(1.1)\" xlink:href=\"#arrow1\"/>\n",
       "          <use transform=\"translate(1.5372,-1.4835) rotate(96.65) scale(1.1)\" xlink:href=\"#arrow1\"/>\n",
       "          <use transform=\"translate(1.2412,-0.4713) rotate(114.75) scale(1.1)\" xlink:href=\"#arrow1\"/>\n",
       "        </g>\n",
       "      </g>\n",
       "      <g id=\"fieldline2\">\n",
       "        <path d=\"M -1.0000,0.0000 L -0.8015,-0.0594 L -0.6893,-0.0918 L -0.6013,-0.1161 L -0.5264,-0.1355 L -0.4597,-0.1515 L -0.3988,-0.1648 L -0.3421,-0.1760 L -0.2886,-0.1853 L -0.2374,-0.1929 L -0.1880,-0.1990 L -0.1399,-0.2036 L -0.0928,-0.2069 L -0.0462,-0.2088 L -0.0000,-0.2094 L 0.0462,-0.2088 L 0.0928,-0.2069 L 0.1399,-0.2036 L 0.1880,-0.1990 L 0.2374,-0.1929 L 0.2886,-0.1853 L 0.3421,-0.1760 L 0.3988,-0.1648 L 0.4597,-0.1515 L 0.5264,-0.1355 L 0.6013,-0.1161 L 0.6893,-0.0918 L 0.8015,-0.0594 L 1.0000,0.0000\"/>\n",
       "        <g id=\"arrows2\">\n",
       "          <use transform=\"translate(-0.5068,-0.1402) rotate(-13.51) scale(1.1)\" xlink:href=\"#arrow1\"/>\n",
       "          <use transform=\"translate(0.5068,-0.1401) rotate(13.72) scale(1.1)\" xlink:href=\"#arrow1\"/>\n",
       "        </g>\n",
       "      </g>\n",
       "      <g id=\"fieldline3\">\n",
       "        <path d=\"M -1.0000,0.0000 L -0.8015,0.0594 L -0.6893,0.0918 L -0.6013,0.1161 L -0.5264,0.1355 L -0.4597,0.1515 L -0.3988,0.1648 L -0.3421,0.1760 L -0.2886,0.1853 L -0.2374,0.1929 L -0.1880,0.1990 L -0.1399,0.2036 L -0.0928,0.2069 L -0.0462,0.2088 L -0.0000,0.2094 L 0.0462,0.2088 L 0.0928,0.2069 L 0.1399,0.2036 L 0.1880,0.1990 L 0.2374,0.1929 L 0.2886,0.1853 L 0.3421,0.1760 L 0.3988,0.1648 L 0.4597,0.1515 L 0.5264,0.1355 L 0.6013,0.1161 L 0.6893,0.0918 L 0.8015,0.0594 L 1.0000,0.0000\"/>\n",
       "        <g id=\"arrows3\">\n",
       "          <use transform=\"translate(-0.5068,0.1402) rotate(13.51) scale(1.1)\" xlink:href=\"#arrow1\"/>\n",
       "          <use transform=\"translate(0.5068,0.1401) rotate(-13.72) scale(1.1)\" xlink:href=\"#arrow1\"/>\n",
       "        </g>\n",
       "      </g>\n",
       "      <g id=\"fieldline4\">\n",
       "        <path d=\"M -1.0000,0.0000 L -1.0758,0.1404 L -1.1249,0.2337 L -1.1663,0.3149 L -1.2031,0.3900 L -1.2368,0.4613 L -1.2679,0.5300 L -1.2968,0.5970 L -1.3237,0.6626 L -1.3489,0.7272 L -1.3724,0.7910 L -1.3943,0.8541 L -1.4147,0.9167 L -1.4337,0.9788 L -1.4512,1.0405 L -1.4672,1.1019 L -1.4819,1.1629 L -1.4952,1.2236 L -1.5072,1.2841 L -1.5178,1.3442 L -1.5271,1.4040 L -1.5350,1.4636 L -1.5417,1.5228 L -1.5470,1.5817 L -1.5510,1.6402 L -1.5537,1.6984 L -1.5552,1.7562 L -1.5554,1.8136 L -1.5543,1.8705 L -1.5519,1.9271 L -1.5483,1.9831 L -1.5435,2.0386 L -1.5375,2.0937 L -1.5302,2.1481 L -1.5217,2.2020 L -1.5121,2.2553 L -1.5013,2.3079 L -1.4893,2.3599 L -1.4762,2.4112 L -1.4620,2.4618 L -1.4466,2.5117 L -1.4302,2.5608 L -1.4127,2.6092 L -1.3942,2.6567 L -1.3746,2.7034 L -1.3540,2.7492 L -1.3324,2.7942 L -1.3099,2.8382 L -1.2864,2.8813 L -1.2619,2.9235 L -1.2366,2.9648 L -1.2104,3.0050 M 1.2104,3.0050 L 1.2366,2.9648 L 1.2619,2.9235 L 1.2864,2.8813 L 1.3099,2.8382 L 1.3324,2.7942 L 1.3540,2.7492 L 1.3746,2.7034 L 1.3942,2.6567 L 1.4127,2.6092 L 1.4302,2.5608 L 1.4466,2.5117 L 1.4620,2.4618 L 1.4762,2.4112 L 1.4893,2.3599 L 1.5013,2.3079 L 1.5121,2.2553 L 1.5217,2.2020 L 1.5302,2.1481 L 1.5375,2.0937 L 1.5435,2.0386 L 1.5483,1.9831 L 1.5519,1.9271 L 1.5543,1.8705 L 1.5554,1.8136 L 1.5552,1.7562 L 1.5537,1.6984 L 1.5510,1.6402 L 1.5470,1.5817 L 1.5417,1.5228 L 1.5350,1.4636 L 1.5271,1.4040 L 1.5178,1.3442 L 1.5072,1.2841 L 1.4952,1.2236 L 1.4819,1.1629 L 1.4672,1.1019 L 1.4512,1.0405 L 1.4337,0.9788 L 1.4147,0.9167 L 1.3943,0.8541 L 1.3724,0.7910 L 1.3489,0.7272 L 1.3237,0.6626 L 1.2968,0.5970 L 1.2679,0.5300 L 1.2368,0.4613 L 1.2031,0.3900 L 1.1663,0.3149 L 1.1249,0.2337 L 1.0758,0.1404 L 1.0000,0.0000\"/>\n",
       "        <g id=\"arrows4\">\n",
       "          <use transform=\"translate(-1.2413,0.4713) rotate(114.32) scale(1.1)\" xlink:href=\"#arrow1\"/>\n",
       "          <use transform=\"translate(-1.5373,1.4835) rotate(96.39) scale(1.1)\" xlink:href=\"#arrow1\"/>\n",
       "          <use transform=\"translate(-1.4406,2.5299) rotate(71.51) scale(1.1)\" xlink:href=\"#arrow1\"/>\n",
       "          <use transform=\"translate(1.4405,2.5299) rotate(-71.84) scale(1.1)\" xlink:href=\"#arrow1\"/>\n",
       "          <use transform=\"translate(1.5372,1.4835) rotate(-96.65) scale(1.1)\" xlink:href=\"#arrow1\"/>\n",
       "          <use transform=\"translate(1.2412,0.4713) rotate(-114.75) scale(1.1)\" xlink:href=\"#arrow1\"/>\n",
       "        </g>\n",
       "      </g>\n",
       "    </g>\n",
       "    <g id=\"symbols\">\n",
       "      <g id=\"charge1\" transform=\"translate(-1,0) scale(0.01,0.01)\">\n",
       "        <circle cx=\"0\" cy=\"0\" r=\"14\" style=\"fill:#ff0000; stroke:none\"/>\n",
       "        <circle cx=\"0\" cy=\"0\" r=\"14\" style=\"fill:url(#white_spot); stroke:#000000; stroke-width:2\"/>\n",
       "        <path d=\"M 2,2 V 8 H -2 V 2 H -8 V -2 H -2 V -8 H 2 V -2 H 8 V 2 H 2 Z\" style=\"fill:#000000; stroke:none\"/>\n",
       "      </g>\n",
       "      <g id=\"charge2\" transform=\"translate(1,0) scale(0.01,0.01)\">\n",
       "        <circle cx=\"0\" cy=\"0\" r=\"14\" style=\"fill:#0000ff; stroke:none\"/>\n",
       "        <circle cx=\"0\" cy=\"0\" r=\"14\" style=\"fill:url(#white_spot); stroke:#000000; stroke-width:2\"/>\n",
       "        <path d=\"M 8,2 H -8 V -2 H 8 V 2 Z\" style=\"fill:#000000; stroke:none\"/>\n",
       "      </g>\n",
       "    </g>\n",
       "  </g>\n",
       "</svg>"
      ],
      "text/plain": [
       "<IPython.core.display.SVG object>"
      ]
     },
     "metadata": {},
     "output_type": "display_data"
    }
   ],
   "source": [
    "#Se visualiza el archivo\n",
    "display(SVG(filename='dipolo_electrico.svg'))"
   ]
  },
  {
   "cell_type": "markdown",
   "metadata": {},
   "source": [
    "# Animación"
   ]
  },
  {
   "cell_type": "code",
   "execution_count": 7,
   "metadata": {
    "collapsed": true
   },
   "outputs": [],
   "source": [
    "name = 'animacion_dipolo_electrico'\n",
    "def no_interactive(d=1, Q1=1,Q2=-1, n=0):\n",
    "    doc = 1\n",
    "    del doc\n",
    "    #Se genera el arhivo en el que se trabajará\n",
    "    doc = vfp.FieldplotDocument(name, commons=True,center=[300,300],width=700,height=600,unit=100)\n",
    "    #Se configura el campo eléctrico\n",
    "    field = vfp.Field([['monopole', {'x':-d/2, 'y':0, 'Q':Q1}], ['monopole', {'x':d/2, 'y':0, 'Q':Q2}]])\n",
    "    #Se dibujan las cargas que generan el campo eléctrico\n",
    "    doc.draw_charges(field) \n",
    "    #Se itera para dibujar cada una de las líneas de campo\n",
    "    for i in range(n):\n",
    "        t = -1.0 + 2.0 * (i + 0.5) / n\n",
    "        y = 0.25 * ((t-1)**-2 - (t+1)**-2) - 0.3*t\n",
    "        line = vfp.FieldLine(field, [0, y], directions='both', maxr=1e4, maxn=2e4)\n",
    "        doc.draw_line(line, linewidth=1.0, arrows_style={'dist':1.25, 'scale':1.1, 'max_arrows':2})\n",
    "    #Se guarda el archivo en formato svg\n",
    "    doc.write()\n",
    "    #Se visualiza el archivo\n",
    "    display(SVG(filename=name+'.svg'))"
   ]
  },
  {
   "cell_type": "code",
   "execution_count": 8,
   "metadata": {
    "collapsed": false
   },
   "outputs": [
    {
     "name": "stdout",
     "output_type": "stream",
     "text": [
      "('image written to', 'animacion_dipolo_electrico.svg')\n"
     ]
    },
    {
     "data": {
      "image/svg+xml": [
       "<svg baseProfile=\"full\" height=\"600\" version=\"1.1\" width=\"700\" xmlns=\"http://www.w3.org/2000/svg\" xmlns:xlink=\"http://www.w3.org/1999/xlink\">\n",
       "  <title>animacion_dipolo_electrico</title>\n",
       "  <desc>animacion_dipolo_electrico\n",
       "created with VectorFieldPlot 3.1\n",
       "https://commons.wikimedia.org/wiki/User:Geek3/VectorFieldPlot\n",
       "\n",
       "about: https://commons.wikimedia.org/wiki/File:animacion_dipolo_electrico.svg\n",
       "rights: Creative Commons Attribution ShareAlike 4.0\n",
       "  </desc>\n",
       "  <defs>\n",
       "    <clipPath id=\"image_clip\">\n",
       "      <rect height=\"6.0\" width=\"7.0\" x=\"-3.0\" y=\"-3.0\"/>\n",
       "    </clipPath>\n",
       "    <radialGradient cx=\"0.65\" cy=\"0.7\" id=\"white_spot\" r=\"0.75\">\n",
       "      <stop offset=\"0\" stop-color=\"#ffffff\" stop-opacity=\"0.7\"/>\n",
       "      <stop offset=\"0.1\" stop-color=\"#ffffff\" stop-opacity=\"0.5\"/>\n",
       "      <stop offset=\"0.6\" stop-color=\"#ffffff\" stop-opacity=\"0\"/>\n",
       "      <stop offset=\"0.6\" stop-color=\"#000000\" stop-opacity=\"0\"/>\n",
       "      <stop offset=\"0.75\" stop-color=\"#000000\" stop-opacity=\"0.05\"/>\n",
       "      <stop offset=\"0.85\" stop-color=\"#000000\" stop-opacity=\"0.15\"/>\n",
       "      <stop offset=\"1\" stop-color=\"#000000\" stop-opacity=\"0.5\"/>\n",
       "    </radialGradient>\n",
       "    <path d=\"M 0.3,0 L -2.2,2.25 L 3.8,0 L -2.2,-2.25 L 0.3,0 Z\" fill=\"#000000\" id=\"arrow1\" stroke=\"none\" transform=\"scale(0.01)\"/>\n",
       "  </defs>\n",
       "  <rect fill=\"#ffffff\" height=\"600\" id=\"background\" width=\"700\" x=\"0\" y=\"0\"/>\n",
       "  <g clip-path=\"url(#image_clip)\" id=\"image\" transform=\"translate(300.0,300.0) scale(100.0,-100.0)\">\n",
       "    <g fill=\"none\" id=\"fieldlines\" stroke=\"#000000\" stroke-linecap=\"round\" stroke-linejoin=\"round\" stroke-width=\"0.01\">\n",
       "      <g id=\"fieldline1\">\n",
       "        <path d=\"M -0.5000,0.0000 L 0.5000,0.0000\"/>\n",
       "        <g id=\"arrows1\">\n",
       "          <use transform=\"translate(0.0000,0.0000) rotate(0.00) scale(1.1)\" xlink:href=\"#arrow1\"/>\n",
       "        </g>\n",
       "      </g>\n",
       "    </g>\n",
       "    <g id=\"symbols\">\n",
       "      <g id=\"charge1\" transform=\"translate(-0.5,0) scale(0.01,0.01)\">\n",
       "        <circle cx=\"0\" cy=\"0\" r=\"14\" style=\"fill:#ff0000; stroke:none\"/>\n",
       "        <circle cx=\"0\" cy=\"0\" r=\"14\" style=\"fill:url(#white_spot); stroke:#000000; stroke-width:2\"/>\n",
       "        <path d=\"M 2,2 V 8 H -2 V 2 H -8 V -2 H -2 V -8 H 2 V -2 H 8 V 2 H 2 Z\" style=\"fill:#000000; stroke:none\"/>\n",
       "      </g>\n",
       "      <g id=\"charge2\" transform=\"translate(0.5,0) scale(0.01,0.01)\">\n",
       "        <circle cx=\"0\" cy=\"0\" r=\"14\" style=\"fill:#0000ff; stroke:none\"/>\n",
       "        <circle cx=\"0\" cy=\"0\" r=\"14\" style=\"fill:url(#white_spot); stroke:#000000; stroke-width:2\"/>\n",
       "        <path d=\"M 8,2 H -8 V -2 H 8 V 2 Z\" style=\"fill:#000000; stroke:none\"/>\n",
       "      </g>\n",
       "    </g>\n",
       "  </g>\n",
       "</svg>"
      ],
      "text/plain": [
       "<IPython.core.display.SVG object>"
      ]
     },
     "metadata": {},
     "output_type": "display_data"
    }
   ],
   "source": [
    "display(interactive(no_interactive,\n",
    "                    d = (0,5,0.1), Q1 = (-10,10,0.5), Q2 = (-10,10,0.5), n = (1,40,1)))"
   ]
  },
  {
   "cell_type": "code",
   "execution_count": null,
   "metadata": {
    "collapsed": true
   },
   "outputs": [],
   "source": []
  },
  {
   "cell_type": "code",
   "execution_count": null,
   "metadata": {
    "collapsed": true
   },
   "outputs": [],
   "source": []
  }
 ],
 "metadata": {
  "anaconda-cloud": {},
  "kernelspec": {
   "display_name": "Python [default]",
   "language": "python",
   "name": "python2"
  },
  "language_info": {
   "codemirror_mode": {
    "name": "ipython",
    "version": 2
   },
   "file_extension": ".py",
   "mimetype": "text/x-python",
   "name": "python",
   "nbconvert_exporter": "python",
   "pygments_lexer": "ipython2",
   "version": "2.7.12"
  },
  "widgets": {
   "state": {
    "1110179457704ac78224bf283a6fe165": {
     "views": [
      {
       "cell_index": 14
      }
     ]
    }
   },
   "version": "1.2.0"
  }
 },
 "nbformat": 4,
 "nbformat_minor": 1
}
