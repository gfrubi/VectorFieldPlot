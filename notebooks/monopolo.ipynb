{
 "cells": [
  {
   "cell_type": "code",
   "execution_count": 1,
   "metadata": {
    "collapsed": false
   },
   "outputs": [],
   "source": [
    "#Se carga Módulo de Vector Field Plot\n",
    "import vectorfieldplot.vfp as vfp\n",
    "#Se carga función para visualizar el archivo en formato svg\n",
    "from IPython.display import SVG\n",
    "#Se cargan funciones para la interactividad\n",
    "from ipywidgets import interactive\n",
    "from IPython.display import display"
   ]
  },
  {
   "cell_type": "markdown",
   "metadata": {},
   "source": [
    "# Monopolo\n",
    "\n",
    "El campo eléctrico que una carga puntual $q^{\\prime}$ ubicada en la posición $\\vec{r}^{\\,\\prime}$, genera en la posición $\\vec{r}$ está dado por:\n",
    "\n",
    "$$\\vec{E}(\\vec{r}) = \\frac{k_{e} q^{\\prime}}{||\\vec{r}-\\vec{r}^{\\,\\prime}||^3} (\\vec{r}-\\vec{r}^{\\,\\prime}),$$\n",
    "\n",
    "donde $k_{e}$ es la constante eléctrica cuyo valor en el SI es $k_{e} \\approx 8.99\\times 10^{9}~\\text{Nm}^2\\text{C}^{-2}.$"
   ]
  },
  {
   "cell_type": "markdown",
   "metadata": {},
   "source": [
    "## ¿Cómo elaborar una imagen?"
   ]
  },
  {
   "cell_type": "markdown",
   "metadata": {},
   "source": [
    "### 1. Se crea el archivo y se configura el campo eléctrico"
   ]
  },
  {
   "cell_type": "code",
   "execution_count": 2,
   "metadata": {
    "collapsed": false
   },
   "outputs": [],
   "source": [
    "#Si quiere rehacer la imagen debe volver a ejecutar desde esta celda en adelante\n",
    "doc = 1\n",
    "del doc\n",
    "#Se crea documento donde se dibujará las líneas de campo eléctrico\n",
    "name = 'monopolo_electrico'\n",
    "doc = vfp.FieldplotDocument(name, commons=True,center=[300,300],width=600,height=600)\n",
    "#Se configura el campo eléctrico\n",
    "field = vfp.Field([['monopole', {'x':0, 'y':0, 'Q':1}]])\n",
    "#Se dibujan las cargas que generan el campo\n",
    "doc.draw_charges(field)"
   ]
  },
  {
   "cell_type": "markdown",
   "metadata": {},
   "source": [
    "### 2. Se itera para dibujar cada una de las líneas de campo eléctrico"
   ]
  },
  {
   "cell_type": "code",
   "execution_count": 3,
   "metadata": {
    "collapsed": false
   },
   "outputs": [
    {
     "name": "stdout",
     "output_type": "stream",
     "text": [
      "('integration boundary', '5', 'exceeded at', '  0.00000,  5.37082')\n",
      "('integration boundary', '5', 'exceeded at', ' -0.00000, -5.12361')\n"
     ]
    }
   ],
   "source": [
    "#Se configura el número de líneas de campo Eléctrico\n",
    "n = 2\n",
    "#Se itera para dibujar las líneas de campo eléctrico\n",
    "for i in range(n):\n",
    "    a = 2.0 * vfp.pi * (0.5 + i) / n\n",
    "    line = vfp.FieldLine(field, [0, 0], start_v=[vfp.cos(a), vfp.sin(a)], directions='forward', maxr=5)\n",
    "    doc.draw_line(line, linewidth=1.0, arrows_style={'dist':2, 'scale':2,\n",
    "        'max_arrows':1, 'offsets':[1.0, 0.5, 0.5, 0.5],\n",
    "        'fixed_ends':[True, False, False, False]})"
   ]
  },
  {
   "cell_type": "markdown",
   "metadata": {},
   "source": [
    "### 3. Se exporta el archivo en formato svg"
   ]
  },
  {
   "cell_type": "code",
   "execution_count": 4,
   "metadata": {
    "collapsed": false
   },
   "outputs": [
    {
     "name": "stdout",
     "output_type": "stream",
     "text": [
      "('image written to', 'monopolo_electrico.svg')\n"
     ]
    }
   ],
   "source": [
    "#Se guarda archivo en formato svg\n",
    "doc.write()"
   ]
  },
  {
   "cell_type": "code",
   "execution_count": 5,
   "metadata": {
    "collapsed": false
   },
   "outputs": [
    {
     "name": "stdout",
     "output_type": "stream",
     "text": [
      "\u001b[0m\u001b[01;35manimacion_dipolo_electrico_ideal.svg\u001b[0m  dipolo-ideal.ipynb\r\n",
      "\u001b[01;35manimacion_dipolo_electrico.svg\u001b[0m        dipolo.ipynb\r\n",
      "\u001b[01;35mdipolo_electrico_ideal.svg\u001b[0m            \u001b[01;35mmonopolo_electrico.svg\u001b[0m\r\n",
      "\u001b[01;35mdipolo_electrico.svg\u001b[0m                  monopolo.ipynb\r\n"
     ]
    }
   ],
   "source": [
    "# Verifique que se ha exportado el archivo name+'.svg'\n",
    "%ls"
   ]
  },
  {
   "cell_type": "markdown",
   "metadata": {},
   "source": [
    "### 4. Se carga y visualiza el archivo en formato svg"
   ]
  },
  {
   "cell_type": "code",
   "execution_count": 6,
   "metadata": {
    "collapsed": false
   },
   "outputs": [
    {
     "data": {
      "image/svg+xml": [
       "<svg baseProfile=\"full\" height=\"600\" version=\"1.1\" width=\"600\" xmlns=\"http://www.w3.org/2000/svg\" xmlns:xlink=\"http://www.w3.org/1999/xlink\">\n",
       "  <title>monopolo_electrico</title>\n",
       "  <desc>monopolo_electrico\n",
       "created with VectorFieldPlot 3.1\n",
       "https://commons.wikimedia.org/wiki/User:Geek3/VectorFieldPlot\n",
       "\n",
       "about: https://commons.wikimedia.org/wiki/File:monopolo_electrico.svg\n",
       "rights: Creative Commons Attribution ShareAlike 4.0\n",
       "  </desc>\n",
       "  <defs>\n",
       "    <clipPath id=\"image_clip\">\n",
       "      <rect height=\"6.0\" width=\"6.0\" x=\"-3.0\" y=\"-3.0\"/>\n",
       "    </clipPath>\n",
       "    <radialGradient cx=\"0.65\" cy=\"0.7\" id=\"white_spot\" r=\"0.75\">\n",
       "      <stop offset=\"0\" stop-color=\"#ffffff\" stop-opacity=\"0.7\"/>\n",
       "      <stop offset=\"0.1\" stop-color=\"#ffffff\" stop-opacity=\"0.5\"/>\n",
       "      <stop offset=\"0.6\" stop-color=\"#ffffff\" stop-opacity=\"0\"/>\n",
       "      <stop offset=\"0.6\" stop-color=\"#000000\" stop-opacity=\"0\"/>\n",
       "      <stop offset=\"0.75\" stop-color=\"#000000\" stop-opacity=\"0.05\"/>\n",
       "      <stop offset=\"0.85\" stop-color=\"#000000\" stop-opacity=\"0.15\"/>\n",
       "      <stop offset=\"1\" stop-color=\"#000000\" stop-opacity=\"0.5\"/>\n",
       "    </radialGradient>\n",
       "    <path d=\"M 0.3,0 L -2.2,2.25 L 3.8,0 L -2.2,-2.25 L 0.3,0 Z\" fill=\"#000000\" id=\"arrow1\" stroke=\"none\" transform=\"scale(0.01)\"/>\n",
       "  </defs>\n",
       "  <rect fill=\"#ffffff\" height=\"600\" id=\"background\" width=\"600\" x=\"0\" y=\"0\"/>\n",
       "  <g clip-path=\"url(#image_clip)\" id=\"image\" transform=\"translate(300.0,300.0) scale(100.0,-100.0)\">\n",
       "    <g fill=\"none\" id=\"fieldlines\" stroke=\"#000000\" stroke-linecap=\"round\" stroke-linejoin=\"round\" stroke-width=\"0.01\">\n",
       "      <g id=\"fieldline1\">\n",
       "        <path d=\"M 0.0000,0.0000 L 0.0000,3.0050\"/>\n",
       "        <g id=\"arrows1\">\n",
       "          <use transform=\"translate(0.0000,2.0000) rotate(90.00) scale(2.0)\" xlink:href=\"#arrow1\"/>\n",
       "        </g>\n",
       "      </g>\n",
       "      <g id=\"fieldline2\">\n",
       "        <path d=\"M 0.0000,0.0000 L -0.0000,-3.0050\"/>\n",
       "        <g id=\"arrows2\">\n",
       "          <use transform=\"translate(-0.0000,-2.0000) rotate(-90.00) scale(2.0)\" xlink:href=\"#arrow1\"/>\n",
       "        </g>\n",
       "      </g>\n",
       "    </g>\n",
       "    <g id=\"symbols\">\n",
       "      <g id=\"charge1\" transform=\"translate(0,0) scale(0.01,0.01)\">\n",
       "        <circle cx=\"0\" cy=\"0\" r=\"14\" style=\"fill:#ff0000; stroke:none\"/>\n",
       "        <circle cx=\"0\" cy=\"0\" r=\"14\" style=\"fill:url(#white_spot); stroke:#000000; stroke-width:2\"/>\n",
       "        <path d=\"M 2,2 V 8 H -2 V 2 H -8 V -2 H -2 V -8 H 2 V -2 H 8 V 2 H 2 Z\" style=\"fill:#000000; stroke:none\"/>\n",
       "      </g>\n",
       "    </g>\n",
       "  </g>\n",
       "</svg>"
      ],
      "text/plain": [
       "<IPython.core.display.SVG object>"
      ]
     },
     "metadata": {},
     "output_type": "display_data"
    }
   ],
   "source": [
    "#Se visualiza el archivo\n",
    "display(SVG(filename=name+'.svg'))"
   ]
  },
  {
   "cell_type": "markdown",
   "metadata": {},
   "source": [
    "# Animación Interactiva"
   ]
  },
  {
   "cell_type": "code",
   "execution_count": 7,
   "metadata": {
    "collapsed": false
   },
   "outputs": [],
   "source": [
    "name = 'animacion_monopolo_electrico'\n",
    "def no_interactive(x0=0, y0=0, Q=1, n=0):\n",
    "    doc = 1\n",
    "    del doc\n",
    "    #Se genera el arhivo en el que se trabajará\n",
    "    doc = vfp.FieldplotDocument(name, commons=True,center=[300,300],width=700,height=600,unit=100)\n",
    "    #Se configura el campo eléctrico\n",
    "    field = vfp.Field([['monopole', {'x':x0, 'y':y0, 'Q':Q}]])\n",
    "    #Se dibujan las cargas que generan el campo eléctrico\n",
    "    doc.draw_charges(field) \n",
    "    #Se itera para dibujar cada una de las líneas de campo\n",
    "    for i in range(n):\n",
    "        a = 2.0 * vfp.pi * (0.5 + i) / n\n",
    "        line = vfp.FieldLine(field, [x0, y0], start_v=[vfp.cos(a), vfp.sin(a)], directions='both', maxr=5)\n",
    "        doc.draw_line(line, linewidth=1.0, arrows_style={'dist':2, 'scale':2,\n",
    "            'max_arrows':1, 'offsets':[1.0, 0.5, 0.5, 0.5],\n",
    "            'fixed_ends':[True, False, False, False]})\n",
    "    #Se guarda el archivo en formato svg\n",
    "    doc.write()\n",
    "    #Se visualiza el archivo\n",
    "    display(SVG(filename=name+'.svg'))"
   ]
  },
  {
   "cell_type": "code",
   "execution_count": 8,
   "metadata": {
    "collapsed": false
   },
   "outputs": [
    {
     "name": "stdout",
     "output_type": "stream",
     "text": [
      "(1000, 'integration steps exceeded at', '  0.00000,  0.00000')\n",
      "('integration boundary', '5', 'exceeded at', ' -5.37082,  0.00000')\n",
      "('image written to', 'animacion_monopolo_electrico.svg')\n"
     ]
    },
    {
     "data": {
      "image/svg+xml": [
       "<svg baseProfile=\"full\" height=\"600\" version=\"1.1\" width=\"700\" xmlns=\"http://www.w3.org/2000/svg\" xmlns:xlink=\"http://www.w3.org/1999/xlink\">\n",
       "  <title>animacion_monopolo_electrico</title>\n",
       "  <desc>animacion_monopolo_electrico\n",
       "created with VectorFieldPlot 3.1\n",
       "https://commons.wikimedia.org/wiki/User:Geek3/VectorFieldPlot\n",
       "\n",
       "about: https://commons.wikimedia.org/wiki/File:animacion_monopolo_electrico.svg\n",
       "rights: Creative Commons Attribution ShareAlike 4.0\n",
       "  </desc>\n",
       "  <defs>\n",
       "    <clipPath id=\"image_clip\">\n",
       "      <rect height=\"6.0\" width=\"7.0\" x=\"-3.0\" y=\"-3.0\"/>\n",
       "    </clipPath>\n",
       "    <radialGradient cx=\"0.65\" cy=\"0.7\" id=\"white_spot\" r=\"0.75\">\n",
       "      <stop offset=\"0\" stop-color=\"#ffffff\" stop-opacity=\"0.7\"/>\n",
       "      <stop offset=\"0.1\" stop-color=\"#ffffff\" stop-opacity=\"0.5\"/>\n",
       "      <stop offset=\"0.6\" stop-color=\"#ffffff\" stop-opacity=\"0\"/>\n",
       "      <stop offset=\"0.6\" stop-color=\"#000000\" stop-opacity=\"0\"/>\n",
       "      <stop offset=\"0.75\" stop-color=\"#000000\" stop-opacity=\"0.05\"/>\n",
       "      <stop offset=\"0.85\" stop-color=\"#000000\" stop-opacity=\"0.15\"/>\n",
       "      <stop offset=\"1\" stop-color=\"#000000\" stop-opacity=\"0.5\"/>\n",
       "    </radialGradient>\n",
       "    <path d=\"M 0.3,0 L -2.2,2.25 L 3.8,0 L -2.2,-2.25 L 0.3,0 Z\" fill=\"#000000\" id=\"arrow1\" stroke=\"none\" transform=\"scale(0.01)\"/>\n",
       "  </defs>\n",
       "  <rect fill=\"#ffffff\" height=\"600\" id=\"background\" width=\"700\" x=\"0\" y=\"0\"/>\n",
       "  <g clip-path=\"url(#image_clip)\" id=\"image\" transform=\"translate(300.0,300.0) scale(100.0,-100.0)\">\n",
       "    <g fill=\"none\" id=\"fieldlines\" stroke=\"#000000\" stroke-linecap=\"round\" stroke-linejoin=\"round\" stroke-width=\"0.01\">\n",
       "      <g id=\"fieldline1\">\n",
       "        <path d=\"M 0.0000,0.0000 L -3.0050,0.0000\"/>\n",
       "        <g id=\"arrows1\">\n",
       "          <use transform=\"translate(-2.0000,0.0000) rotate(180.00) scale(2.0)\" xlink:href=\"#arrow1\"/>\n",
       "        </g>\n",
       "      </g>\n",
       "    </g>\n",
       "    <g id=\"symbols\">\n",
       "      <g id=\"charge1\" transform=\"translate(0.0,0.0) scale(0.01,0.01)\">\n",
       "        <circle cx=\"0\" cy=\"0\" r=\"14\" style=\"fill:#ff0000; stroke:none\"/>\n",
       "        <circle cx=\"0\" cy=\"0\" r=\"14\" style=\"fill:url(#white_spot); stroke:#000000; stroke-width:2\"/>\n",
       "        <path d=\"M 2,2 V 8 H -2 V 2 H -8 V -2 H -2 V -8 H 2 V -2 H 8 V 2 H 2 Z\" style=\"fill:#000000; stroke:none\"/>\n",
       "      </g>\n",
       "    </g>\n",
       "  </g>\n",
       "</svg>"
      ],
      "text/plain": [
       "<IPython.core.display.SVG object>"
      ]
     },
     "metadata": {},
     "output_type": "display_data"
    }
   ],
   "source": [
    "display(interactive(no_interactive,\n",
    "                    x0 = (-10,10,0.5), y0 = (-10,10,0.5), Q = (-10,10,0.5), n = (1,40,1)))"
   ]
  },
  {
   "cell_type": "code",
   "execution_count": null,
   "metadata": {
    "collapsed": true
   },
   "outputs": [],
   "source": []
  }
 ],
 "metadata": {
  "anaconda-cloud": {},
  "kernelspec": {
   "display_name": "Python [default]",
   "language": "python",
   "name": "python2"
  },
  "language_info": {
   "codemirror_mode": {
    "name": "ipython",
    "version": 2
   },
   "file_extension": ".py",
   "mimetype": "text/x-python",
   "name": "python",
   "nbconvert_exporter": "python",
   "pygments_lexer": "ipython2",
   "version": "2.7.12"
  },
  "widgets": {
   "state": {
    "865d6d8d7884409cab29e34f0246f09e": {
     "views": [
      {
       "cell_index": 14
      }
     ]
    }
   },
   "version": "1.2.0"
  }
 },
 "nbformat": 4,
 "nbformat_minor": 2
}
